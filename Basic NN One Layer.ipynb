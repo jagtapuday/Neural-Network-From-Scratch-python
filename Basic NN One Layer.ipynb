{
 "cells": [
  {
   "cell_type": "markdown",
   "metadata": {},
   "source": [
    "# Assignment 1"
   ]
  },
  {
   "cell_type": "markdown",
   "metadata": {},
   "source": [
    "## Importing Libraries"
   ]
  },
  {
   "cell_type": "code",
   "execution_count": 1,
   "metadata": {},
   "outputs": [],
   "source": [
    "import numpy as np\n",
    "import pandas as pd\n",
    "from sklearn import datasets\n",
    "from sklearn.preprocessing import StandardScaler,MinMaxScaler\n",
    "from sklearn.metrics import confusion_matrix,classification_report,accuracy_score"
   ]
  },
  {
   "cell_type": "code",
   "execution_count": 2,
   "metadata": {},
   "outputs": [],
   "source": [
    "import matplotlib.pyplot as plt\n",
    "import seaborn as sns\n",
    "%matplotlib inline\n",
    "import math"
   ]
  },
  {
   "cell_type": "code",
   "execution_count": 3,
   "metadata": {},
   "outputs": [],
   "source": [
    "Random_state=24"
   ]
  },
  {
   "cell_type": "markdown",
   "metadata": {},
   "source": [
    "## Importing Data"
   ]
  },
  {
   "cell_type": "code",
   "execution_count": 4,
   "metadata": {},
   "outputs": [],
   "source": [
    "X,y=datasets.make_moons(n_samples=1000,shuffle=True,noise=0.2,random_state=Random_state)"
   ]
  },
  {
   "cell_type": "code",
   "execution_count": 5,
   "metadata": {},
   "outputs": [],
   "source": [
    "df=pd.DataFrame(X,columns=[\"A\",\"B\"])"
   ]
  },
  {
   "cell_type": "code",
   "execution_count": 6,
   "metadata": {},
   "outputs": [],
   "source": [
    "df[\"y\"]=y"
   ]
  },
  {
   "cell_type": "code",
   "execution_count": 7,
   "metadata": {},
   "outputs": [
    {
     "data": {
      "text/html": [
       "<div>\n",
       "<style scoped>\n",
       "    .dataframe tbody tr th:only-of-type {\n",
       "        vertical-align: middle;\n",
       "    }\n",
       "\n",
       "    .dataframe tbody tr th {\n",
       "        vertical-align: top;\n",
       "    }\n",
       "\n",
       "    .dataframe thead th {\n",
       "        text-align: right;\n",
       "    }\n",
       "</style>\n",
       "<table border=\"1\" class=\"dataframe\">\n",
       "  <thead>\n",
       "    <tr style=\"text-align: right;\">\n",
       "      <th></th>\n",
       "      <th>A</th>\n",
       "      <th>B</th>\n",
       "      <th>y</th>\n",
       "    </tr>\n",
       "  </thead>\n",
       "  <tbody>\n",
       "    <tr>\n",
       "      <th>0</th>\n",
       "      <td>0.906340</td>\n",
       "      <td>0.902676</td>\n",
       "      <td>0</td>\n",
       "    </tr>\n",
       "    <tr>\n",
       "      <th>1</th>\n",
       "      <td>-1.115368</td>\n",
       "      <td>0.755793</td>\n",
       "      <td>0</td>\n",
       "    </tr>\n",
       "    <tr>\n",
       "      <th>2</th>\n",
       "      <td>1.887692</td>\n",
       "      <td>0.417597</td>\n",
       "      <td>1</td>\n",
       "    </tr>\n",
       "    <tr>\n",
       "      <th>3</th>\n",
       "      <td>-0.933450</td>\n",
       "      <td>-0.022999</td>\n",
       "      <td>0</td>\n",
       "    </tr>\n",
       "    <tr>\n",
       "      <th>4</th>\n",
       "      <td>-0.968729</td>\n",
       "      <td>0.063963</td>\n",
       "      <td>0</td>\n",
       "    </tr>\n",
       "  </tbody>\n",
       "</table>\n",
       "</div>"
      ],
      "text/plain": [
       "          A         B  y\n",
       "0  0.906340  0.902676  0\n",
       "1 -1.115368  0.755793  0\n",
       "2  1.887692  0.417597  1\n",
       "3 -0.933450 -0.022999  0\n",
       "4 -0.968729  0.063963  0"
      ]
     },
     "execution_count": 7,
     "metadata": {},
     "output_type": "execute_result"
    }
   ],
   "source": [
    "df.head()"
   ]
  },
  {
   "cell_type": "code",
   "execution_count": 8,
   "metadata": {},
   "outputs": [
    {
     "data": {
      "text/html": [
       "<div>\n",
       "<style scoped>\n",
       "    .dataframe tbody tr th:only-of-type {\n",
       "        vertical-align: middle;\n",
       "    }\n",
       "\n",
       "    .dataframe tbody tr th {\n",
       "        vertical-align: top;\n",
       "    }\n",
       "\n",
       "    .dataframe thead th {\n",
       "        text-align: right;\n",
       "    }\n",
       "</style>\n",
       "<table border=\"1\" class=\"dataframe\">\n",
       "  <thead>\n",
       "    <tr style=\"text-align: right;\">\n",
       "      <th></th>\n",
       "      <th>A</th>\n",
       "      <th>B</th>\n",
       "      <th>y</th>\n",
       "    </tr>\n",
       "  </thead>\n",
       "  <tbody>\n",
       "    <tr>\n",
       "      <th>count</th>\n",
       "      <td>1000.000000</td>\n",
       "      <td>1000.000000</td>\n",
       "      <td>1000.00000</td>\n",
       "    </tr>\n",
       "    <tr>\n",
       "      <th>mean</th>\n",
       "      <td>0.490841</td>\n",
       "      <td>0.239025</td>\n",
       "      <td>0.50000</td>\n",
       "    </tr>\n",
       "    <tr>\n",
       "      <th>std</th>\n",
       "      <td>0.898951</td>\n",
       "      <td>0.540082</td>\n",
       "      <td>0.50025</td>\n",
       "    </tr>\n",
       "    <tr>\n",
       "      <th>min</th>\n",
       "      <td>-1.688795</td>\n",
       "      <td>-0.955280</td>\n",
       "      <td>0.00000</td>\n",
       "    </tr>\n",
       "    <tr>\n",
       "      <th>25%</th>\n",
       "      <td>-0.149565</td>\n",
       "      <td>-0.205090</td>\n",
       "      <td>0.00000</td>\n",
       "    </tr>\n",
       "    <tr>\n",
       "      <th>50%</th>\n",
       "      <td>0.500100</td>\n",
       "      <td>0.241163</td>\n",
       "      <td>0.50000</td>\n",
       "    </tr>\n",
       "    <tr>\n",
       "      <th>75%</th>\n",
       "      <td>1.095048</td>\n",
       "      <td>0.680394</td>\n",
       "      <td>1.00000</td>\n",
       "    </tr>\n",
       "    <tr>\n",
       "      <th>max</th>\n",
       "      <td>2.419113</td>\n",
       "      <td>1.612075</td>\n",
       "      <td>1.00000</td>\n",
       "    </tr>\n",
       "  </tbody>\n",
       "</table>\n",
       "</div>"
      ],
      "text/plain": [
       "                 A            B           y\n",
       "count  1000.000000  1000.000000  1000.00000\n",
       "mean      0.490841     0.239025     0.50000\n",
       "std       0.898951     0.540082     0.50025\n",
       "min      -1.688795    -0.955280     0.00000\n",
       "25%      -0.149565    -0.205090     0.00000\n",
       "50%       0.500100     0.241163     0.50000\n",
       "75%       1.095048     0.680394     1.00000\n",
       "max       2.419113     1.612075     1.00000"
      ]
     },
     "execution_count": 8,
     "metadata": {},
     "output_type": "execute_result"
    }
   ],
   "source": [
    "df.describe()"
   ]
  },
  {
   "cell_type": "code",
   "execution_count": 9,
   "metadata": {},
   "outputs": [
    {
     "data": {
      "text/plain": [
       "<matplotlib.axes._subplots.AxesSubplot at 0x7fccd4ac2350>"
      ]
     },
     "execution_count": 9,
     "metadata": {},
     "output_type": "execute_result"
    },
    {
     "data": {
      "image/png": "[encoded data removed]",
      "text/plain": [
       "<Figure size 432x288 with 1 Axes>"
      ]
     },
     "metadata": {
      "needs_background": "light"
     },
     "output_type": "display_data"
    }
   ],
   "source": [
    "sns.scatterplot(x=df.A,y=df.B,hue=df.y)"
   ]
  },
  {
   "cell_type": "code",
   "execution_count": 10,
   "metadata": {},
   "outputs": [],
   "source": [
    "Result_df=pd.DataFrame(columns=[\"Accuracy\",\"Remark\"])"
   ]
  },
  {
   "cell_type": "code",
   "execution_count": 11,
   "metadata": {},
   "outputs": [],
   "source": [
    "#To store result in the dataframe\n",
    "def Save_Result(Accuracy):\n",
    "    global Result_df\n",
    "    print(\"Accuracy : \",Accuracy)\n",
    "    Remark=input(\"Please Enter Remark : \")\n",
    "    result={\"Accuracy\":Accuracy,\"Remark\":Remark}\n",
    "    Result_df=Result_df.append(result,ignore_index=True)\n",
    "    print(\"Data Saved\")\n",
    "#     print(Result_df)\n",
    "    return True"
   ]
  },
  {
   "cell_type": "markdown",
   "metadata": {},
   "source": [
    "## Normalization"
   ]
  },
  {
   "cell_type": "code",
   "execution_count": 12,
   "metadata": {},
   "outputs": [],
   "source": [
    "def norm_std(data):\n",
    "    std=StandardScaler()\n",
    "    norm_data=std.fit_transform(data.iloc[:,:-1])\n",
    "    norm_data=pd.DataFrame(norm_data,columns=[\"A\",\"B\"])\n",
    "    pd.concat([norm_data,data[[\"y\"]]],axis=1,ignore_index=True)\n",
    "    return norm_data"
   ]
  },
  {
   "cell_type": "code",
   "execution_count": 13,
   "metadata": {},
   "outputs": [],
   "source": [
    "def norm_Zscore(data):\n",
    "    min_max=MinMaxScaler()\n",
    "    norm_data=min_max.fit_transform(data)\n",
    "    return pd.DataFrame(norm_data,columns=[\"A\",\"B\",\"y\"])"
   ]
  },
  {
   "cell_type": "code",
   "execution_count": 14,
   "metadata": {},
   "outputs": [],
   "source": [
    "def sigmoid(z):\n",
    "    return 1/(1+np.exp(-z))"
   ]
  },
  {
   "cell_type": "markdown",
   "metadata": {},
   "source": [
    "## Predict Function"
   ]
  },
  {
   "cell_type": "code",
   "execution_count": 15,
   "metadata": {},
   "outputs": [],
   "source": [
    "def predict(row_weight,row_values):\n",
    "    # Equition\n",
    "    z=row_weight[-1] # b->intercept\n",
    "    \n",
    "    for i in range(len(row_values)-1):\n",
    "        z+=row_weight[i]*row_values[i]\n",
    "\n",
    "    return sigmoid(z)\n",
    "#     if z>=0:\n",
    "#         return 1\n",
    "#     return 0"
   ]
  },
  {
   "cell_type": "markdown",
   "metadata": {},
   "source": [
    "## To get just independent variable"
   ]
  },
  {
   "cell_type": "code",
   "execution_count": 16,
   "metadata": {},
   "outputs": [],
   "source": [
    "def get_info(i):\n",
    "    return i[:-1]"
   ]
  },
  {
   "cell_type": "code",
   "execution_count": 17,
   "metadata": {},
   "outputs": [
    {
     "data": {
      "text/plain": [
       "0.28774947000691203"
      ]
     },
     "execution_count": 17,
     "metadata": {},
     "output_type": "execute_result"
    }
   ],
   "source": [
    "weights=[-1, -1, 1]\n",
    "info=get_info(df.iloc[0])\n",
    "predict(info,weights)"
   ]
  },
  {
   "cell_type": "markdown",
   "metadata": {},
   "source": [
    "## Train Test Split"
   ]
  },
  {
   "cell_type": "code",
   "execution_count": 18,
   "metadata": {},
   "outputs": [],
   "source": [
    "def train_model(train,alpha=.5,learning_rate=0.01,n_epoch=10):\n",
    "    error_list=[]\n",
    "    #Randam weight intialization\n",
    "    #[w1,w2,b]\n",
    "    weights=np.random.rand(train.shape[1])\n",
    "#     weights=[0.5966775 , 0.38021512, 0.55997561]\n",
    "    print(weights,alpha*(weights[0]**2 + weights[1]**2))\n",
    "    for epoch in range(n_epoch):\n",
    "#         print(\"*\"*10+\" Epoch \"+str(epoch)+\" \"+ \"*\"*10)\n",
    "        epoch_error=0.0\n",
    "        for row in train:\n",
    "            \n",
    "            #To calculate prediction of each recored\n",
    "            y_hat=predict(weights,get_info(row))\n",
    "            \n",
    "            #Calculate individual Loss \n",
    "            #individual_error = row[-1]-y_hat\n",
    "            individual_error = (-row[-1]*np.log(y_hat)+(1-row[-1])*np.log(1-y_hat)) \n",
    "            \n",
    "            # weight updation SGD based on each epoch\n",
    "            for i in range(len(row)-1):\n",
    "                weights[i]=weights[i]+learning_rate*individual_error*row[i]\n",
    "\n",
    "            weights[-1]=weights[-1]+learning_rate*individual_error\n",
    "            \n",
    "            #Add individual loss to epoch_loss\n",
    "            epoch_error+=individual_error\n",
    "            \n",
    "            \n",
    "        # Early stopping condition\n",
    "        if epoch>6 and all(i >= epoch_error for i in error_list[-5:]):\n",
    "            print(\"Error : \",epoch_error)\n",
    "            print(\"Early stopping at epoch at : \",epoch,\"th epoch\")\n",
    "            print(\"Final weights : \",weights)\n",
    "            return weights , error_list\n",
    "\n",
    "        print(\"Error : \",epoch_error)\n",
    "        error_list.append(epoch_error)\n",
    "        \n",
    "    print(\"Final weights : \",weights)\n",
    "    \n",
    "    return weights , error_list"
   ]
  },
  {
   "cell_type": "markdown",
   "metadata": {},
   "source": [
    "## Prediction on test data"
   ]
  },
  {
   "cell_type": "markdown",
   "metadata": {},
   "source": [
    "## Final result"
   ]
  },
  {
   "cell_type": "code",
   "execution_count": 22,
   "metadata": {},
   "outputs": [],
   "source": [
    "def Prediction(final_weights,test_df):\n",
    "    y_hat_final=[]\n",
    "    for i in test_df.values:\n",
    "        y_hat=predict(final_weights,i)\n",
    "        y_hat_final.append(y_hat)\n",
    "    y_hat_bin=[]\n",
    "    y_hat_bin=np.where(np.array(y_hat_final)>=.5,1,0)\n",
    "    print(\"confusion_matrix : \\n\",confusion_matrix(test.y,y_hat_bin))\n",
    "    accuracy=accuracy_score(test.y,y_hat_bin)\n",
    "    Save_Result(accuracy)\n",
    "    return True"
   ]
  },
  {
   "cell_type": "code",
   "execution_count": 24,
   "metadata": {},
   "outputs": [],
   "source": [
    "train,test=df.iloc[:800],df.iloc[800:]"
   ]
  },
  {
   "cell_type": "code",
   "execution_count": 42,
   "metadata": {
    "collapsed": true
   },
   "outputs": [
    {
     "name": "stdout",
     "output_type": "stream",
     "text": [
      "[0.5966775, 0.38021512, 0.55997561] 0.5005875764828643\n",
      "********** Epoch 0 **********\n",
      "Error :  -93.1984476021013\n",
      "********** Epoch 1 **********\n",
      "Error :  -15.242375273268259\n",
      "********** Epoch 2 **********\n",
      "Error :  -5.009651363837438\n",
      "********** Epoch 3 **********\n",
      "Error :  -1.8161735618175199\n",
      "********** Epoch 4 **********\n",
      "Error :  -0.6754541224454569\n",
      "********** Epoch 5 **********\n",
      "Error :  -0.2534410842806225\n",
      "********** Epoch 6 **********\n",
      "Error :  -0.09540601108853407\n",
      "********** Epoch 7 **********\n",
      "Error :  -0.03595881428256541\n",
      "********** Epoch 8 **********\n",
      "Error :  -0.013559220776495087\n",
      "********** Epoch 9 **********\n",
      "Error :  -0.00511374857985783\n",
      "********** Epoch 10 **********\n",
      "Error :  -0.0019287342489720527\n",
      "********** Epoch 11 **********\n",
      "Error :  -0.0007274717218420101\n",
      "********** Epoch 12 **********\n",
      "Error :  -0.0002743872182802004\n",
      "********** Epoch 13 **********\n",
      "Error :  -0.0001034935204459464\n",
      "********** Epoch 14 **********\n",
      "Error :  -3.903579414830938e-05\n",
      "********** Epoch 15 **********\n",
      "Error :  -1.4723568880173343e-05\n",
      "********** Epoch 16 **********\n",
      "Error :  -5.553454870702024e-06\n",
      "********** Epoch 17 **********\n",
      "Error :  -2.094659413059974e-06\n",
      "********** Epoch 18 **********\n",
      "Error :  -7.900664830140514e-07\n",
      "********** Epoch 19 **********\n",
      "Error :  -2.9799831567645096e-07\n",
      "********** Epoch 20 **********\n",
      "Error :  -1.1239949268548877e-07\n",
      "********** Epoch 21 **********\n",
      "Error :  -4.239492620849994e-08\n",
      "********** Epoch 22 **********\n",
      "Error :  -1.599063996493566e-08\n",
      "********** Epoch 23 **********\n",
      "Error :  -6.0314523375737394e-09\n",
      "********** Epoch 24 **********\n",
      "Error :  -2.274839247529137e-09\n",
      "********** Epoch 25 **********\n",
      "Error :  -8.57902582307446e-10\n",
      "********** Epoch 26 **********\n",
      "Error :  -3.2368666080806463e-10\n",
      "********** Epoch 27 **********\n",
      "Error :  -1.2197570731231622e-10\n",
      "********** Epoch 28 **********\n",
      "Error :  -4.60712440419897e-11\n",
      "********** Epoch 29 **********\n",
      "Error :  -1.735639409972123e-11\n",
      "********** Epoch 30 **********\n",
      "Error :  -6.507974714686782e-12\n",
      "********** Epoch 31 **********\n",
      "Error :  -2.4886204208485196e-12\n",
      "********** Epoch 32 **********\n",
      "Error :  -9.541256673628595e-13\n",
      "********** Epoch 33 **********\n",
      "Error :  -5.56402146578705e-13\n",
      "********** Epoch 34 **********\n",
      "Error :  -2.4023838474107606e-13\n",
      "********** Epoch 35 **********\n",
      "Error :  -1.1945999744966684e-13\n",
      "********** Epoch 36 **********\n",
      "Error :  -3.060052211623088e-14\n",
      "********** Epoch 37 **********\n",
      "Error :  6.872280522429719e-14\n",
      "********** Epoch 38 **********\n",
      "Error :  7.938094626069869e-14\n",
      "********** Epoch 39 **********\n",
      "Error :  7.938094626069869e-14\n",
      "********** Epoch 40 **********\n",
      "Error :  7.938094626069869e-14\n",
      "********** Epoch 41 **********\n",
      "Error :  7.938094626069869e-14\n",
      "********** Epoch 42 **********\n",
      "Error :  7.938094626069869e-14\n",
      "********** Epoch 43 **********\n",
      "Error :  7.938094626069869e-14\n",
      "Early stopping at epoch at :  43 th epoch\n",
      "Final weights :  [1.2806781271161982, -65.15485720661873, -0.603511165651986]\n"
     ]
    }
   ],
   "source": [
    "learning_rate=0.01\n",
    "epoch=50\n",
    "alpha=1\n",
    "final_weights,error=train_model(train.values,alpha,learning_rate,epoch)"
   ]
  },
  {
   "cell_type": "code",
   "execution_count": 43,
   "metadata": {},
   "outputs": [
    {
     "name": "stdout",
     "output_type": "stream",
     "text": [
      "confusion_matrix : \n",
      " [[112   5]\n",
      " [ 20  63]]\n",
      "Accuracy :  0.875\n",
      "Please Enter Remark : Original data epoch 50 LR =0.01\n",
      "Data Saved\n"
     ]
    },
    {
     "data": {
      "text/plain": [
       "True"
      ]
     },
     "execution_count": 43,
     "metadata": {},
     "output_type": "execute_result"
    }
   ],
   "source": [
    "Prediction(final_weights,test) #Result with Original Data"
   ]
  },
  {
   "cell_type": "markdown",
   "metadata": {},
   "source": [
    "## With min-max"
   ]
  },
  {
   "cell_type": "code",
   "execution_count": 34,
   "metadata": {},
   "outputs": [],
   "source": [
    "min_max_df=norm_Zscore(df)"
   ]
  },
  {
   "cell_type": "code",
   "execution_count": 35,
   "metadata": {},
   "outputs": [],
   "source": [
    "mm_train,mm_test=min_max_df.iloc[:800],min_max_df.iloc[800:]"
   ]
  },
  {
   "cell_type": "code",
   "execution_count": 49,
   "metadata": {},
   "outputs": [
    {
     "name": "stdout",
     "output_type": "stream",
     "text": [
      "[0.5966775, 0.38021512, 0.55997561] 0.5005875764828643\n",
      "********** Epoch 0 **********\n",
      "Error :  -23.409336140741473\n",
      "********** Epoch 1 **********\n",
      "Error :  -6.309333133271006\n",
      "********** Epoch 2 **********\n",
      "Error :  -3.0125479341153283\n",
      "********** Epoch 3 **********\n",
      "Error :  -1.5481046502951625\n",
      "********** Epoch 4 **********\n",
      "Error :  -0.8226655239691995\n",
      "********** Epoch 5 **********\n",
      "Error :  -0.44454515436275444\n",
      "********** Epoch 6 **********\n",
      "Error :  -0.24233077833641736\n",
      "********** Epoch 7 **********\n",
      "Error :  -0.1327198565973377\n",
      "********** Epoch 8 **********\n",
      "Error :  -0.07287300565537108\n",
      "********** Epoch 9 **********\n",
      "Error :  -0.04006822372332172\n",
      "********** Epoch 10 **********\n",
      "Error :  -0.022047729303684635\n",
      "********** Epoch 11 **********\n",
      "Error :  -0.012136938162025934\n",
      "********** Epoch 12 **********\n",
      "Error :  -0.006682734852905728\n",
      "********** Epoch 13 **********\n",
      "Error :  -0.003680054548481415\n",
      "********** Epoch 14 **********\n",
      "Error :  -0.002026676937619737\n",
      "********** Epoch 15 **********\n",
      "Error :  -0.0011161728335732923\n",
      "********** Epoch 16 **********\n",
      "Error :  -0.0006147344351730838\n",
      "********** Epoch 17 **********\n",
      "Error :  -0.0003385701650991946\n",
      "********** Epoch 18 **********\n",
      "Error :  -0.00018647156295149847\n",
      "********** Epoch 19 **********\n",
      "Error :  -0.00010270180305954613\n",
      "********** Epoch 20 **********\n",
      "Error :  -5.656455431192475e-05\n",
      "********** Epoch 21 **********\n",
      "Error :  -3.115380784154964e-05\n",
      "********** Epoch 22 **********\n",
      "Error :  -1.715845413409467e-05\n",
      "********** Epoch 23 **********\n",
      "Error :  -9.450294032792295e-06\n",
      "********** Epoch 24 **********\n",
      "Error :  -5.20490198334389e-06\n",
      "********** Epoch 25 **********\n",
      "Error :  -2.8666841424135336e-06\n",
      "********** Epoch 26 **********\n",
      "Error :  -1.5788728304905186e-06\n",
      "********** Epoch 27 **********\n",
      "Error :  -8.69589868432441e-07\n",
      "********** Epoch 28 **********\n",
      "Error :  -4.789407914707056e-07\n",
      "********** Epoch 29 **********\n",
      "Error :  -2.637843727337774e-07\n",
      "********** Epoch 30 **********\n",
      "Error :  -1.4528356544196708e-07\n",
      "********** Epoch 31 **********\n",
      "Error :  -8.001729023821014e-08\n",
      "********** Epoch 32 **********\n",
      "Error :  -4.407072794199163e-08\n",
      "********** Epoch 33 **********\n",
      "Error :  -2.427268069871147e-08\n",
      "********** Epoch 34 **********\n",
      "Error :  -1.3368555401571669e-08\n",
      "********** Epoch 35 **********\n",
      "Error :  -7.36295692471689e-09\n",
      "********** Epoch 36 **********\n",
      "Error :  -4.055306090933186e-09\n",
      "********** Epoch 37 **********\n",
      "Error :  -2.233489851399817e-09\n",
      "********** Epoch 38 **********\n",
      "Error :  -1.230205784463756e-09\n",
      "********** Epoch 39 **********\n",
      "Error :  -6.775184302476589e-10\n",
      "********** Epoch 40 **********\n",
      "Error :  -3.7310833589376813e-10\n",
      "********** Epoch 41 **********\n",
      "Error :  -2.0551230162091372e-10\n",
      "********** Epoch 42 **********\n",
      "Error :  -1.1329624738376509e-10\n",
      "********** Epoch 43 **********\n",
      "Error :  -6.232379889947737e-11\n",
      "********** Epoch 44 **********\n",
      "Error :  -3.433385520335008e-11\n",
      "********** Epoch 45 **********\n",
      "Error :  -1.8900450649006473e-11\n",
      "********** Epoch 46 **********\n",
      "Error :  -1.0330875044317622e-11\n",
      "********** Epoch 47 **********\n",
      "Error :  -5.792921697889142e-12\n",
      "********** Epoch 48 **********\n",
      "Error :  -3.1701724578780954e-12\n",
      "********** Epoch 49 **********\n",
      "Error :  -1.772346158723792e-12\n",
      "********** Epoch 50 **********\n",
      "Error :  -1.0231121505555052e-12\n",
      "********** Epoch 51 **********\n",
      "Error :  -5.258571356137054e-13\n",
      "********** Epoch 52 **********\n",
      "Error :  -2.9486135755263376e-13\n",
      "********** Epoch 53 **********\n",
      "Error :  -1.3188061753766078e-13\n",
      "********** Epoch 54 **********\n",
      "Error :  -1.0948186801584825e-13\n",
      "********** Epoch 55 **********\n",
      "Error :  -4.696243394164412e-14\n",
      "********** Epoch 56 **********\n",
      "Error :  -9.518774657379936e-14\n",
      "********** Epoch 57 **********\n",
      "Error :  -5.43315392675936e-14\n",
      "********** Epoch 58 **********\n",
      "Error :  -5.43315392675936e-14\n",
      "********** Epoch 59 **********\n",
      "Error :  -5.43315392675936e-14\n",
      "********** Epoch 60 **********\n",
      "Error :  -5.43315392675936e-14\n",
      "********** Epoch 61 **********\n",
      "Error :  -5.43315392675936e-14\n",
      "********** Epoch 62 **********\n",
      "Error :  -5.43315392675936e-14\n",
      "Early stopping at epoch at :  62 th epoch\n",
      "Final weights :  [5.249430891893492, -372.37929565589786, -3.0483826998959245]\n"
     ]
    }
   ],
   "source": [
    "learning_rate=0.1\n",
    "epoch=80\n",
    "alpha=1\n",
    "mm_final_weights,error=train_model(mm_train.values,alpha,learning_rate,epoch)"
   ]
  },
  {
   "cell_type": "code",
   "execution_count": 50,
   "metadata": {},
   "outputs": [
    {
     "name": "stdout",
     "output_type": "stream",
     "text": [
      "confusion_matrix : \n",
      " [[117   0]\n",
      " [ 82   1]]\n",
      "Accuracy :  0.59\n",
      "Please Enter Remark : With Min-Max epoch 80\n",
      "Data Saved\n"
     ]
    },
    {
     "data": {
      "text/plain": [
       "True"
      ]
     },
     "execution_count": 50,
     "metadata": {},
     "output_type": "execute_result"
    }
   ],
   "source": [
    "Prediction(mm_final_weights,mm_test) #Result with Min-Max"
   ]
  },
  {
   "cell_type": "markdown",
   "metadata": {},
   "source": [
    "## Standard-Normalization"
   ]
  },
  {
   "cell_type": "code",
   "execution_count": 38,
   "metadata": {},
   "outputs": [],
   "source": [
    "std_df=norm_std(df)\n",
    "std_train,std_test=std_df.iloc[:800],std_df.iloc[800:]"
   ]
  },
  {
   "cell_type": "code",
   "execution_count": 45,
   "metadata": {},
   "outputs": [
    {
     "name": "stdout",
     "output_type": "stream",
     "text": [
      "[0.5966775, 0.38021512, 0.55997561] 0.5005875764828643\n",
      "********** Epoch 0 **********\n",
      "Error :  -305.3760133046203\n",
      "********** Epoch 1 **********\n",
      "Error :  -134.71142348447975\n",
      "********** Epoch 2 **********\n",
      "Error :  -136.24671122977452\n",
      "********** Epoch 3 **********\n",
      "Error :  -165.6758932468283\n",
      "********** Epoch 4 **********\n",
      "Error :  -213.2923110293969\n",
      "********** Epoch 5 **********\n",
      "Error :  -278.58279301523123\n",
      "********** Epoch 6 **********\n",
      "Error :  -364.75559857482716\n",
      "********** Epoch 7 **********\n",
      "Error :  -477.7012394109405\n",
      "Early stopping at epoch at :  7 th epoch\n",
      "Final weights :  [-195.9186363919652, 0.38021512, -20.20344422296103]\n"
     ]
    }
   ],
   "source": [
    "learning_rate=0.01\n",
    "epoch=50\n",
    "alpha=1\n",
    "std_final_weights,error=train_model(std_train.values,alpha,learning_rate,epoch)"
   ]
  },
  {
   "cell_type": "code",
   "execution_count": 46,
   "metadata": {},
   "outputs": [
    {
     "name": "stdout",
     "output_type": "stream",
     "text": [
      "confusion_matrix : \n",
      " [[35 82]\n",
      " [62 21]]\n",
      "Accuracy :  0.28\n",
      "Please Enter Remark : Std with epoch 50 LR=0.01\n",
      "Data Saved\n"
     ]
    },
    {
     "data": {
      "text/plain": [
       "True"
      ]
     },
     "execution_count": 46,
     "metadata": {},
     "output_type": "execute_result"
    }
   ],
   "source": [
    "Prediction(std_final_weights,std_test) #Result with Standard Normalization"
   ]
  },
  {
   "cell_type": "markdown",
   "metadata": {},
   "source": [
    "# Final Result"
   ]
  },
  {
   "cell_type": "code",
   "execution_count": 51,
   "metadata": {},
   "outputs": [
    {
     "data": {
      "text/html": [
       "<div>\n",
       "<style scoped>\n",
       "    .dataframe tbody tr th:only-of-type {\n",
       "        vertical-align: middle;\n",
       "    }\n",
       "\n",
       "    .dataframe tbody tr th {\n",
       "        vertical-align: top;\n",
       "    }\n",
       "\n",
       "    .dataframe thead th {\n",
       "        text-align: right;\n",
       "    }\n",
       "</style>\n",
       "<table border=\"1\" class=\"dataframe\">\n",
       "  <thead>\n",
       "    <tr style=\"text-align: right;\">\n",
       "      <th></th>\n",
       "      <th>Accuracy</th>\n",
       "      <th>Remark</th>\n",
       "    </tr>\n",
       "  </thead>\n",
       "  <tbody>\n",
       "    <tr>\n",
       "      <th>0</th>\n",
       "      <td>0.870</td>\n",
       "      <td>Result with Original Data</td>\n",
       "    </tr>\n",
       "    <tr>\n",
       "      <th>1</th>\n",
       "      <td>0.590</td>\n",
       "      <td>Result with Min-Max</td>\n",
       "    </tr>\n",
       "    <tr>\n",
       "      <th>2</th>\n",
       "      <td>0.275</td>\n",
       "      <td>Result with Standard Normalization</td>\n",
       "    </tr>\n",
       "    <tr>\n",
       "      <th>3</th>\n",
       "      <td>0.875</td>\n",
       "      <td>Original data epoch 50 LR =0.01</td>\n",
       "    </tr>\n",
       "    <tr>\n",
       "      <th>4</th>\n",
       "      <td>0.280</td>\n",
       "      <td>Std with epoch 50 LR=0.01</td>\n",
       "    </tr>\n",
       "    <tr>\n",
       "      <th>5</th>\n",
       "      <td>0.590</td>\n",
       "      <td>With Min-Max epoch 80</td>\n",
       "    </tr>\n",
       "  </tbody>\n",
       "</table>\n",
       "</div>"
      ],
      "text/plain": [
       "   Accuracy                              Remark\n",
       "0     0.870           Result with Original Data\n",
       "1     0.590                 Result with Min-Max\n",
       "2     0.275  Result with Standard Normalization\n",
       "3     0.875     Original data epoch 50 LR =0.01\n",
       "4     0.280           Std with epoch 50 LR=0.01\n",
       "5     0.590               With Min-Max epoch 80"
      ]
     },
     "execution_count": 51,
     "metadata": {},
     "output_type": "execute_result"
    }
   ],
   "source": [
    "Result_df"
   ]
  },
  {
   "cell_type": "code",
   "execution_count": null,
   "metadata": {},
   "outputs": [],
   "source": []
  }
 ],
 "metadata": {
  "kernelspec": {
   "display_name": "Python 3",
   "language": "python",
   "name": "python3"
  },
  "language_info": {
   "codemirror_mode": {
    "name": "ipython",
    "version": 3
   },
   "file_extension": ".py",
   "mimetype": "text/x-python",
   "name": "python",
   "nbconvert_exporter": "python",
   "pygments_lexer": "ipython3",
   "version": "3.7.7"
  },
  "toc": {
   "base_numbering": 1,
   "nav_menu": {},
   "number_sections": true,
   "sideBar": true,
   "skip_h1_title": false,
   "title_cell": "Table of Contents",
   "title_sidebar": "Contents",
   "toc_cell": false,
   "toc_position": {},
   "toc_section_display": true,
   "toc_window_display": true
  }
 },
 "nbformat": 4,
 "nbformat_minor": 4
}
